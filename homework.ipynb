{
 "cells": [
  {
   "cell_type": "code",
   "execution_count": 1,
   "metadata": {},
   "outputs": [
    {
     "name": "stdout",
     "output_type": "stream",
     "text": [
      "                     Performance     Revenue  Customer Share  Voltus Share\n",
      "2022-06-14 14:00:00      4478.76   6718.1400     4299.609600   2418.530400\n",
      "2022-06-14 15:00:00      1632.96   2939.3280     1881.169920   1058.158080\n",
      "2022-06-14 16:00:00      4445.28  13335.8400     8534.937600   4800.902400\n",
      "2022-06-14 17:00:00      6876.36   5363.5608     3432.678912   1930.881888\n",
      "                     Performance     Revenue  Customer Share  Voltus Share\n",
      "2022-06-14 14:00:00      4356.00   6534.0000     4051.080000   2482.920000\n",
      "2022-06-14 15:00:00      4320.36   7776.6480     4821.521760   2955.126240\n",
      "2022-06-14 16:00:00      4285.80  12857.4000     7971.588000   4885.812000\n",
      "2022-06-14 17:00:00      3942.36   3075.0408     1906.525296   1168.515504\n",
      "                     Performance     Revenue  Customer Share  Voltus Share\n",
      "2022-06-14 14:00:00      653.400   980.10000      548.856000    431.244000\n",
      "2022-06-14 15:00:00      634.176  1141.51680      639.249408    502.267392\n",
      "2022-06-14 16:00:00      614.916  1844.74800     1033.058880    811.689120\n",
      "2022-06-14 17:00:00      472.824   368.80272      206.529523    162.273197\n",
      "                     Performance      Revenue  Customer Share  Voltus Share\n",
      "2022-06-14 14:00:00     3263.952   4895.92800     3182.353200   1713.574800\n",
      "2022-06-14 15:00:00     2961.132   5330.03760     3464.524440   1865.513160\n",
      "2022-06-14 16:00:00     3537.552  10612.65600     6898.226400   3714.429600\n",
      "2022-06-14 17:00:00     6971.868   5438.05704     3534.737076   1903.319964\n",
      "                     Performance   Revenue  Customer Share  Voltus Share\n",
      "2022-06-14 14:00:00        1.386    2.0790        1.060290      1.018710\n",
      "2022-06-14 15:00:00       15.102   27.1836       13.863636     13.319964\n",
      "2022-06-14 16:00:00       29.592   88.7760       45.275760     43.500240\n",
      "2022-06-14 17:00:00      187.830  146.5074       74.718774     71.788626\n",
      "   MISO FSL Baseline  Profit Share% 10 of 10 baseline  \\\n",
      "1            10700.0           0.64                     \n",
      "2             5400.0           0.62                     \n",
      "3              850.0           0.56                     \n",
      "5             9000.0           0.65                     \n",
      "6              350.0           0.51                     \n",
      "\n",
      "  Average Performance (10 of 10) Average Performance (FSL)      Revenue  \\\n",
      "1                        4358.34                    4716.8   28356.8688   \n",
      "2                        4226.13                    5062.5   30243.0888   \n",
      "3                        593.829                    817.69   4335.16752   \n",
      "5                       4183.626                   4120.32  26276.67864   \n",
      "6                        58.4775                   121.625      264.546   \n",
      "\n",
      "  Customer Share  Voltus Share  \n",
      "1   18148.396032  10208.472768  \n",
      "2   18750.715056  11492.373744  \n",
      "3    2427.693811   1907.473709  \n",
      "5   17079.841116   9196.837524  \n",
      "6      134.91846     129.62754  \n"
     ]
    },
    {
     "data": {
      "text/html": [
       "<div>\n",
       "<style scoped>\n",
       "    .dataframe tbody tr th:only-of-type {\n",
       "        vertical-align: middle;\n",
       "    }\n",
       "\n",
       "    .dataframe tbody tr th {\n",
       "        vertical-align: top;\n",
       "    }\n",
       "\n",
       "    .dataframe thead th {\n",
       "        text-align: right;\n",
       "    }\n",
       "</style>\n",
       "<table border=\"1\" class=\"dataframe\">\n",
       "  <thead>\n",
       "    <tr style=\"text-align: right;\">\n",
       "      <th></th>\n",
       "      <th>kWh</th>\n",
       "    </tr>\n",
       "    <tr>\n",
       "      <th>Interval Beginning (EST)</th>\n",
       "      <th></th>\n",
       "    </tr>\n",
       "  </thead>\n",
       "  <tbody>\n",
       "    <tr>\n",
       "      <th>2022-05-02 00:00:00</th>\n",
       "      <td>1533.6</td>\n",
       "    </tr>\n",
       "    <tr>\n",
       "      <th>2022-05-02 00:15:00</th>\n",
       "      <td>1490.4</td>\n",
       "    </tr>\n",
       "    <tr>\n",
       "      <th>2022-05-02 00:30:00</th>\n",
       "      <td>1425.6</td>\n",
       "    </tr>\n",
       "    <tr>\n",
       "      <th>2022-05-02 00:45:00</th>\n",
       "      <td>1414.8</td>\n",
       "    </tr>\n",
       "    <tr>\n",
       "      <th>2022-05-02 01:00:00</th>\n",
       "      <td>1371.6</td>\n",
       "    </tr>\n",
       "    <tr>\n",
       "      <th>...</th>\n",
       "      <td>...</td>\n",
       "    </tr>\n",
       "    <tr>\n",
       "      <th>2022-06-20 22:45:00</th>\n",
       "      <td>3294.0</td>\n",
       "    </tr>\n",
       "    <tr>\n",
       "      <th>2022-06-20 23:00:00</th>\n",
       "      <td>6091.2</td>\n",
       "    </tr>\n",
       "    <tr>\n",
       "      <th>2022-06-20 23:15:00</th>\n",
       "      <td>4730.4</td>\n",
       "    </tr>\n",
       "    <tr>\n",
       "      <th>2022-06-20 23:30:00</th>\n",
       "      <td>5821.2</td>\n",
       "    </tr>\n",
       "    <tr>\n",
       "      <th>2022-06-20 23:45:00</th>\n",
       "      <td>4741.2</td>\n",
       "    </tr>\n",
       "  </tbody>\n",
       "</table>\n",
       "<p>4800 rows × 1 columns</p>\n",
       "</div>"
      ],
      "text/plain": [
       "                             kWh\n",
       "Interval Beginning (EST)        \n",
       "2022-05-02 00:00:00       1533.6\n",
       "2022-05-02 00:15:00       1490.4\n",
       "2022-05-02 00:30:00       1425.6\n",
       "2022-05-02 00:45:00       1414.8\n",
       "2022-05-02 01:00:00       1371.6\n",
       "...                          ...\n",
       "2022-06-20 22:45:00       3294.0\n",
       "2022-06-20 23:00:00       6091.2\n",
       "2022-06-20 23:15:00       4730.4\n",
       "2022-06-20 23:30:00       5821.2\n",
       "2022-06-20 23:45:00       4741.2\n",
       "\n",
       "[4800 rows x 1 columns]"
      ]
     },
     "execution_count": 1,
     "metadata": {},
     "output_type": "execute_result"
    }
   ],
   "source": [
    "import pandas as pd\n",
    "from homework import get_site_data\n",
    "\n",
    "# First, lets read in and format the time series for a site\n",
    "data = get_site_data()\n",
    "data"
   ]
  },
  {
   "cell_type": "markdown",
   "metadata": {},
   "source": [
    "The 10of10 baseline offers a unique baseline for each hour of the event (4 unique hours, 2-3, 3-4, 4-5, and 5-6 P.M). To do this, we can filter our series for the 10 preceding, non event, business days, and aggregate the mean hourly performance for each hour.\n",
    "\n",
    "For example, the 10of10 basis for 2-3 P.M on 06/14 is the mean of the performance from 2-3 P.M on business days between 05/31 through 06/13"
   ]
  },
  {
   "cell_type": "code",
   "execution_count": 2,
   "metadata": {},
   "outputs": [
    {
     "data": {
      "text/plain": [
       "DatetimeIndex(['2022-05-31', '2022-06-01', '2022-06-02', '2022-06-03',\n",
       "               '2022-06-06', '2022-06-07', '2022-06-08', '2022-06-09',\n",
       "               '2022-06-10', '2022-06-13'],\n",
       "              dtype='datetime64[ns]', name='Interval Beginning (EST)', freq=None)"
      ]
     },
     "execution_count": 2,
     "metadata": {},
     "output_type": "execute_result"
    }
   ],
   "source": [
    "event_start = pd.Timestamp(\"2022-06-14 14:00:00\")\n",
    "event_end = pd.Timestamp(\"2022-06-14 14:00:00\")\n",
    "data[data.index.dayofweek < 5].loc[\n",
    "        event_start - pd.offsets.BusinessDay(10) : event_end - pd.offsets.BusinessDay(1)\n",
    "    ].index.floor(\"d\").unique()"
   ]
  },
  {
   "cell_type": "code",
   "execution_count": 3,
   "metadata": {},
   "outputs": [
    {
     "data": {
      "text/plain": [
       "2022-06-14 14:00:00    11919.96\n",
       "2022-06-14 15:00:00     9203.76\n",
       "2022-06-14 16:00:00    11638.08\n",
       "2022-06-14 17:00:00     8604.36\n",
       "dtype: float64"
      ]
     },
     "execution_count": 3,
     "metadata": {},
     "output_type": "execute_result"
    }
   ],
   "source": [
    "from homework import get_10of10_baselines\n",
    "\n",
    "#1A: Calculate the 10of10 baselines\n",
    "event_start = pd.Timestamp(\"2022-06-14 14:00:00\")\n",
    "event_end = pd.Timestamp(\"2022-06-14 14:00:00\")\n",
    "\n",
    "def get_10of10_baselines(\n",
    "    data: pd.Series = get_site_data()[\"kWh\"],\n",
    "    event_start=pd.Timestamp(\"2022-06-14 14:00:00\"),\n",
    "    event_end=pd.Timestamp(\"2022-06-14 17:00:00\"),\n",
    ") -> pd.Series:\n",
    "    \"\"\"Given a customer's site data, the event time range, returns the customer's baseline performance for that date using the MISO 10of10 methodology\n",
    "\n",
    "    The 10of10 calculation metholody uses the mean of the 10 proceeding, non event, non weekend dates' daily average performance.\n",
    "\n",
    "    Args:\n",
    "        data (pd.DataFrame, optional): A customer's site data as a df. Defaults to site 1 data.\n",
    "        event_start (pd.Timestamp, optional): starting timestamp of event. Defaults to pd.Timestamp(\"2022-06-14 14:00:00\").\n",
    "        event_end (pd.Timestamp, optional): ending timestamp of event. Defaults to pd.Timestamp(\"2022-06-14 14:00:00\").\n",
    "\n",
    "    Returns:\n",
    "        float: The calculated baseline\n",
    "    \"\"\"\n",
    "\n",
    "    data = data.loc[\n",
    "        event_start - pd.offsets.BusinessDay(10) : event_end - pd.offsets.BusinessDay(1)\n",
    "    ] # Get the past 10 business days worth of data\n",
    "    data = data[data.index.dayofweek < 5] #Eliminate any weekend data \n",
    "    data = data.groupby(data.index.floor(\"h\")).sum() #Aggregate hourly performance across the whole series\n",
    "    return pd.Series(\n",
    "        {\n",
    "            i: data[data.index.hour == i.hour].mean()\n",
    "            for i in pd.date_range(event_start, event_end, freq=\"h\") #Filter for measurements for each hour (2 P.M - 6 P.M), and get the mean()\n",
    "        }\n",
    "    )\n",
    "\n",
    "get_10of10_baselines()"
   ]
  },
  {
   "cell_type": "markdown",
   "metadata": {},
   "source": [
    "Now that we have our baselines, we can calculate the performance hour by hour"
   ]
  },
  {
   "cell_type": "code",
   "execution_count": 4,
   "metadata": {},
   "outputs": [
    {
     "name": "stdout",
     "output_type": "stream",
     "text": [
      "FSL:  4716.8\n",
      "10of10:  4358.339999999999\n"
     ]
    }
   ],
   "source": [
    "#1C: Calculate baselines using the 10of10, and a given flat MISO listed baseline\n",
    "from typing import Union\n",
    "\n",
    "def customer_performance_from_baseline(\n",
    "    customer_series, baseline: Union[pd.Series, float]\n",
    ") -> float:\n",
    "    \"\"\"Given a slice of the customer's 15 minute interval data and baseline kW measurement, returns the average performance relative to the given baseline over the course of the event. Assumes 15 minute intervals\n",
    "\n",
    "    Args:\n",
    "        customer_series (pd.Series): 15 minute interval series (indexed with timestamps, EST) of customer performance\n",
    "        baseline (float or pd.Series): float (For FSL baseline) or series (for hourly 10of10 baselines) (kW)\n",
    "\n",
    "    Returns:\n",
    "        float: The average hourly performance\n",
    "    \"\"\"\n",
    "    return (\n",
    "        baseline - customer_series.groupby(customer_series.index.floor(\"h\")).sum() #The subtraction operation supports both float and series; float would be treated as a series of the same float.\n",
    "    ).mean()\n",
    "\n",
    "event_data = data.loc[\n",
    "                pd.Timestamp(\"2022-06-14 14:00:00\") : pd.Timestamp(\n",
    "                    \"2022-06-14 17:00:00\"\n",
    "                )\n",
    "            ]    \n",
    "print(\"FSL: \", customer_performance_from_baseline(event_data,10700)['kWh'])\n",
    "print(\"10of10: \", customer_performance_from_baseline(event_data['kWh'], get_10of10_baselines(data[\"kWh\"])))\n"
   ]
  },
  {
   "cell_type": "markdown",
   "metadata": {},
   "source": [
    "For step 3, we already have done the process of finding the performance relative to the baseline in step 1. We can recycle this process, and instead of taking the mean over the course of the event, we can apply the given profit share and rates to calculate payouts."
   ]
  },
  {
   "cell_type": "code",
   "execution_count": 5,
   "metadata": {},
   "outputs": [
    {
     "data": {
      "text/html": [
       "<div>\n",
       "<style scoped>\n",
       "    .dataframe tbody tr th:only-of-type {\n",
       "        vertical-align: middle;\n",
       "    }\n",
       "\n",
       "    .dataframe tbody tr th {\n",
       "        vertical-align: top;\n",
       "    }\n",
       "\n",
       "    .dataframe thead th {\n",
       "        text-align: right;\n",
       "    }\n",
       "</style>\n",
       "<table border=\"1\" class=\"dataframe\">\n",
       "  <thead>\n",
       "    <tr style=\"text-align: right;\">\n",
       "      <th></th>\n",
       "      <th>Performance</th>\n",
       "      <th>Revenue</th>\n",
       "      <th>Customer Share</th>\n",
       "      <th>Voltus Share</th>\n",
       "    </tr>\n",
       "  </thead>\n",
       "  <tbody>\n",
       "    <tr>\n",
       "      <th>2022-06-14 14:00:00</th>\n",
       "      <td>4478.76</td>\n",
       "      <td>6718.1400</td>\n",
       "      <td>4299.609600</td>\n",
       "      <td>2418.530400</td>\n",
       "    </tr>\n",
       "    <tr>\n",
       "      <th>2022-06-14 15:00:00</th>\n",
       "      <td>1632.96</td>\n",
       "      <td>2939.3280</td>\n",
       "      <td>1881.169920</td>\n",
       "      <td>1058.158080</td>\n",
       "    </tr>\n",
       "    <tr>\n",
       "      <th>2022-06-14 16:00:00</th>\n",
       "      <td>4445.28</td>\n",
       "      <td>13335.8400</td>\n",
       "      <td>8534.937600</td>\n",
       "      <td>4800.902400</td>\n",
       "    </tr>\n",
       "    <tr>\n",
       "      <th>2022-06-14 17:00:00</th>\n",
       "      <td>6876.36</td>\n",
       "      <td>5363.5608</td>\n",
       "      <td>3432.678912</td>\n",
       "      <td>1930.881888</td>\n",
       "    </tr>\n",
       "  </tbody>\n",
       "</table>\n",
       "</div>"
      ],
      "text/plain": [
       "                     Performance     Revenue  Customer Share  Voltus Share\n",
       "2022-06-14 14:00:00      4478.76   6718.1400     4299.609600   2418.530400\n",
       "2022-06-14 15:00:00      1632.96   2939.3280     1881.169920   1058.158080\n",
       "2022-06-14 16:00:00      4445.28  13335.8400     8534.937600   4800.902400\n",
       "2022-06-14 17:00:00      6876.36   5363.5608     3432.678912   1930.881888"
      ]
     },
     "execution_count": 5,
     "metadata": {},
     "output_type": "execute_result"
    }
   ],
   "source": [
    "#3 payout calculation\n",
    "\n",
    "hourly_rates = {\n",
    "    pd.Timestamp(\"2022-06-14 14:00\"): 1500,\n",
    "    pd.Timestamp(\"2022-06-14 15:00\"): 1800,\n",
    "    pd.Timestamp(\"2022-06-14 16:00\"): 3000,\n",
    "    pd.Timestamp(\"2022-06-14 17:00\"): 780,\n",
    "}\n",
    "\n",
    "def calculate_payouts(\n",
    "    customer_series: pd.Series=get_site_data()[\"kWh\"].loc[\n",
    "                pd.Timestamp(\"2022-06-14 14:00:00\") : pd.Timestamp(\n",
    "                    \"2022-06-14 17:00:00\"\n",
    "                )\n",
    "            ],\n",
    "    baseline: pd.Series=get_10of10_baselines(),\n",
    "    customer_profit_share: float = 0.64,\n",
    "    hourly_payout_rates: dict = hourly_rates,\n",
    "):\n",
    "    df = customer_series.groupby(customer_series.index.floor(\"h\")).sum() # Aggregate by the hour\n",
    "\n",
    "    df = pd.DataFrame((baseline - df), columns=[\"Performance\"]) # Create an initial column of performance relative to the baseline (10of10 used for payout calculation)\n",
    "    df[\"Revenue\"] = (df[\"Performance\"] * pd.Series(hourly_payout_rates) / 1000).apply(\n",
    "        lambda x: max(x, 0)\n",
    "    ) # Apply hourly rate payout for revenue.\n",
    "    df[\"Customer Share\"] = df[\"Revenue\"] * customer_profit_share # Customer Share\n",
    "    df[\"Voltus Share\"] = df[\"Revenue\"] - df[\"Customer Share\"] # Voltus Share\n",
    "    return df\n",
    "\n",
    "calculate_payouts()\n",
    "# calculate_payouts(data[\"kWh\"].loc[\n",
    "#                 pd.Timestamp(\"2022-06-14 14:00:00\") : pd.Timestamp(\n",
    "#                     \"2022-06-14 17:00:00\"\n",
    "#                 )\n",
    "#             ])"
   ]
  },
  {
   "cell_type": "markdown",
   "metadata": {},
   "source": [
    "*Something of note: If we were to always do this in succession of one another, assuming we've already calculated the 10of10 baseline average, we could just multiply that by however many hours the event was to calculate total performance*\n"
   ]
  },
  {
   "cell_type": "code",
   "execution_count": 6,
   "metadata": {},
   "outputs": [
    {
     "data": {
      "text/plain": [
       "Performance       17433.360000\n",
       "Revenue           28356.868800\n",
       "Customer Share    18148.396032\n",
       "Voltus Share      10208.472768\n",
       "dtype: float64"
      ]
     },
     "execution_count": 6,
     "metadata": {},
     "output_type": "execute_result"
    }
   ],
   "source": [
    "# And now, we take the total\n",
    "calculate_payouts().sum()"
   ]
  },
  {
   "cell_type": "markdown",
   "metadata": {},
   "source": [
    "**Why did we write these out as functions?**\n",
    "\n",
    "1. We can re-use these functions for each site's data\n",
    "2. Since no solution is implemented with 'magic numbers' (explicitly using the time frame we gave), we can utilize this for analysis on any future events that may happen, or general revenue calculation"
   ]
  },
  {
   "cell_type": "code",
   "execution_count": 7,
   "metadata": {},
   "outputs": [
    {
     "name": "stdout",
     "output_type": "stream",
     "text": [
      "   MISO FSL Baseline  Profit Share% 10 of 10 baseline  \\\n",
      "1            10700.0           0.64                     \n",
      "2             5400.0           0.62                     \n",
      "3              850.0           0.56                     \n",
      "5             9000.0           0.65                     \n",
      "6              350.0           0.51                     \n",
      "\n",
      "  Average Performance (10 of 10) Average Performance (FSL) Revenue  \\\n",
      "1                                                                    \n",
      "2                                                                    \n",
      "3                                                                    \n",
      "5                                                                    \n",
      "6                                                                    \n",
      "\n",
      "  Customer Share Voltus Share  \n",
      "1                              \n",
      "2                              \n",
      "3                              \n",
      "5                              \n",
      "6                              \n",
      "   MISO FSL Baseline  Profit Share% 10 of 10 baseline  \\\n",
      "1            10700.0           0.64                     \n",
      "2             5400.0           0.62                     \n",
      "3              850.0           0.56                     \n",
      "5             9000.0           0.65                     \n",
      "6              350.0           0.51                     \n",
      "\n",
      "  Average Performance (10 of 10) Average Performance (FSL)      Revenue  \\\n",
      "1                        4358.34                    4716.8   28356.8688   \n",
      "2                        4226.13                    5062.5   30243.0888   \n",
      "3                        593.829                    817.69   4335.16752   \n",
      "5                       4183.626                   4120.32  26276.67864   \n",
      "6                        58.4775                   121.625      264.546   \n",
      "\n",
      "  Customer Share  Voltus Share  \n",
      "1   18148.396032  10208.472768  \n",
      "2   18750.715056  11492.373744  \n",
      "3    2427.693811   1907.473709  \n",
      "5   17079.841116   9196.837524  \n",
      "6      134.91846     129.62754  \n"
     ]
    }
   ],
   "source": [
    "from homework import construct_df, get_site_data\n",
    "\n",
    "def main():\n",
    "    df = construct_df()\n",
    "    print(df)\n",
    "\n",
    "    for i in [1, 2, 3, 5, 6]: # For each Site\n",
    "        site_data = get_site_data(\"files/site_\" + str(i) + \".csv\")\n",
    "        df.loc[i, \"Average Performance (FSL)\"] = customer_performance_from_baseline(\n",
    "            site_data.loc[\n",
    "                pd.Timestamp(\"2022-06-14 14:00:00\") : pd.Timestamp(\n",
    "                    \"2022-06-14 17:00:00\"\n",
    "                )\n",
    "            ][\"kWh\"],\n",
    "            df.loc[i, \"MISO FSL Baseline\"] #Given Miso baseline (float),\n",
    "        )\n",
    "\n",
    "        df.loc[\n",
    "            i, \"Average Performance (10 of 10)\"\n",
    "        ] = customer_performance_from_baseline(\n",
    "            site_data.loc[\n",
    "                pd.Timestamp(\"2022-06-14 14:00:00\") : pd.Timestamp(\n",
    "                    \"2022-06-14 17:00:00\"\n",
    "                )\n",
    "            ][\"kWh\"],\n",
    "            get_10of10_baselines(site_data[\"kWh\"]) #Calculate 10of10 baseline (series),\n",
    "        )\n",
    "\n",
    "        payouts = calculate_payouts(\n",
    "            site_data[\"kWh\"].loc[\n",
    "                pd.Timestamp(\"2022-06-14 14:00:00\") : pd.Timestamp(\n",
    "                    \"2022-06-14 17:00:00\"\n",
    "                )\n",
    "            ],\n",
    "            get_10of10_baselines(site_data[\"kWh\"]),\n",
    "            df[\"Profit Share%\"].loc[i],\n",
    "        ).sum()\n",
    "        df.loc[i, \"Revenue\"] = payouts[\"Revenue\"]\n",
    "        df.loc[i, \"Customer Share\"] = payouts[\"Customer Share\"]\n",
    "        df.loc[i, \"Voltus Share\"] = payouts[\"Voltus Share\"]\n",
    "    return df\n",
    "\n",
    "\n",
    "print(main())\n"
   ]
  }
 ],
 "metadata": {
  "kernelspec": {
   "display_name": "generalvenv",
   "language": "python",
   "name": "python3"
  },
  "language_info": {
   "codemirror_mode": {
    "name": "ipython",
    "version": 3
   },
   "file_extension": ".py",
   "mimetype": "text/x-python",
   "name": "python",
   "nbconvert_exporter": "python",
   "pygments_lexer": "ipython3",
   "version": "3.11.4"
  }
 },
 "nbformat": 4,
 "nbformat_minor": 2
}
